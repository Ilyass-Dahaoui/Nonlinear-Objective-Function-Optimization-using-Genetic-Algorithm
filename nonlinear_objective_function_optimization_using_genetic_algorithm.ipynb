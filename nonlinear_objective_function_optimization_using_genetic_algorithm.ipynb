{
  "nbformat": 4,
  "nbformat_minor": 0,
  "metadata": {
    "colab": {
      "provenance": [],
      "toc_visible": true,
      "authorship_tag": "ABX9TyOVjK8gQbaASmloGxA5Pxn3",
      "include_colab_link": true
    },
    "kernelspec": {
      "name": "python3",
      "display_name": "Python 3"
    },
    "language_info": {
      "name": "python"
    }
  },
  "cells": [
    {
      "cell_type": "markdown",
      "metadata": {
        "id": "view-in-github",
        "colab_type": "text"
      },
      "source": [
        "<a href=\"https://colab.research.google.com/github/Ilyass-Dahaoui/Nonlinear-Objective-Function-Optimization-using-Genetic-Algorithm/blob/main/nonlinear_objective_function_optimization_using_genetic_algorithm.ipynb\" target=\"_parent\"><img src=\"https://colab.research.google.com/assets/colab-badge.svg\" alt=\"Open In Colab\"/></a>"
      ]
    },
    {
      "cell_type": "markdown",
      "source": [
        " On pose A =t BB (avec B = rand(n, n)) une matrice définie positive f(x) = (txAx)/(\n",
        "txx) avec x! = 0.\n",
        "minimisons f :)"
      ],
      "metadata": {
        "id": "16CcYSthFVIy"
      }
    },
    {
      "cell_type": "code",
      "source": [
        "import numpy as np\n",
        "import random\n",
        "import matplotlib.pyplot as plt\n"
      ],
      "metadata": {
        "id": "tFapdZlRGlI8"
      },
      "execution_count": null,
      "outputs": []
    },
    {
      "cell_type": "code",
      "execution_count": null,
      "metadata": {
        "id": "igFAM-ebE99W"
      },
      "outputs": [],
      "source": [
        "def f(x,A):\n",
        "  return np.dot(x.T, np.dot(A, x)) / np.dot(x.T, x)"
      ]
    },
    {
      "cell_type": "code",
      "source": [
        "def create_population(n,Npop):\n",
        "  return np.random.rand(Npop,n) #vecteurs x aleatoires de taille (Npop,n) avec n nombre de colonne"
      ],
      "metadata": {
        "id": "RDgwYzDnGtYF"
      },
      "execution_count": null,
      "outputs": []
    },
    {
      "cell_type": "code",
      "source": [
        "create_population(5,5)"
      ],
      "metadata": {
        "colab": {
          "base_uri": "https://localhost:8080/"
        },
        "id": "16t50iLRJOQp",
        "outputId": "e3ef028b-cbbf-49c4-b01c-74bfd3e720dd"
      },
      "execution_count": null,
      "outputs": [
        {
          "output_type": "execute_result",
          "data": {
            "text/plain": [
              "array([[0.30231418, 0.58155376, 0.39422165, 0.8574115 , 0.43589302],\n",
              "       [0.39182102, 0.49614958, 0.91726546, 0.98064725, 0.54019345],\n",
              "       [0.53832236, 0.05354388, 0.79127562, 0.92519327, 0.90500853],\n",
              "       [0.80825719, 0.15258599, 0.1195773 , 0.81666175, 0.35124242],\n",
              "       [0.26134446, 0.17931226, 0.39205678, 0.20924008, 0.23998217]])"
            ]
          },
          "metadata": {},
          "execution_count": 19
        }
      ]
    },
    {
      "cell_type": "code",
      "source": [
        "def evaluate_fitness(population,A):\n",
        "  return [f(i,A) for i in population]"
      ],
      "metadata": {
        "id": "x6PYH_mzHIpm"
      },
      "execution_count": null,
      "outputs": []
    },
    {
      "cell_type": "code",
      "source": [
        "A=np.array([[0.42444807, 0.14833028, 0.73475604, 0.24005475, 0.61133401],\n",
        "       [0.78374958, 0.89268804, 0.05045449, 0.06762568, 0.31593925],\n",
        "       [0.6454113 , 0.66190514, 0.54389799, 0.31264482, 0.65023304],\n",
        "       [0.07325399, 0.83655693, 0.36650212, 0.33867058, 0.07119236],\n",
        "       [0.85874057, 0.77863236, 0.42890383, 0.74911828, 0.86015862]])"
      ],
      "metadata": {
        "id": "g7uP0KTnPB8m"
      },
      "execution_count": null,
      "outputs": []
    },
    {
      "cell_type": "code",
      "source": [
        "evaluate_fitness(create_population(5,5),A)"
      ],
      "metadata": {
        "colab": {
          "base_uri": "https://localhost:8080/"
        },
        "id": "oFyawJrQOdeD",
        "outputId": "b480ed20-f4b4-4c04-8c5b-023487f6eb4a"
      },
      "execution_count": null,
      "outputs": [
        {
          "output_type": "execute_result",
          "data": {
            "text/plain": [
              "[2.2234150056461903,\n",
              " 2.2547672257978064,\n",
              " 1.2932425180232094,\n",
              " 1.9647108121668182,\n",
              " 1.524730747587434]"
            ]
          },
          "metadata": {},
          "execution_count": 21
        }
      ]
    },
    {
      "cell_type": "code",
      "source": [
        "def selection(population,fitness):\n",
        "  best_indices=np.argsort(fitness)[:len(population)]\n",
        "  best_population=population[best_indices]\n",
        "  return best_population"
      ],
      "metadata": {
        "id": "rJ0Ny1s6QRQL"
      },
      "execution_count": null,
      "outputs": []
    },
    {
      "cell_type": "code",
      "source": [
        "def crossover(parent1, parent2):\n",
        "    crossover_point = np.random.randint(1, len(parent1))\n",
        "    child = np.concatenate((parent1[:crossover_point], parent2[crossover_point:]))\n",
        "    return child"
      ],
      "metadata": {
        "id": "gqSb-0OQUdaE"
      },
      "execution_count": null,
      "outputs": []
    },
    {
      "cell_type": "code",
      "source": [
        "def mutation(individu,em):\n",
        "    individu = individu + np.random.normal(0,em, size=len(individu))\n",
        "    return individu"
      ],
      "metadata": {
        "id": "RtP8h3odWmgy"
      },
      "execution_count": null,
      "outputs": []
    },
    {
      "cell_type": "code",
      "source": [
        "def genetic_algorithm(A,Npop,em, precision):\n",
        "    n = A.shape[0]\n",
        "    population = create_population(n, Npop)\n",
        "    fitness_values = evaluate_fitness(population, A)\n",
        "    best_fitness = np.min(fitness_values)\n",
        "    best_individual = population[np.argmin(fitness_values)]\n",
        "\n",
        "    while True:\n",
        "        selected_population = selection(population, fitness_values)\n",
        "        new_population = []\n",
        "        for i in range(0, Npop,2): #on prend les paires ou on prend chaque individu de 0,N-1\n",
        "            parent1, parent2 = selected_population[i], selected_population[i+1]\n",
        "            child1 = crossover(parent1, parent2)\n",
        "            child2 = crossover(parent2, parent1)\n",
        "            child=random.choice([child1,child2])\n",
        "            mutated_child=mutation(child,em)\n",
        "            new_population.extend([mutated_child, child])\n",
        "\n",
        "        population = np.array(new_population)\n",
        "        fitness_values = evaluate_fitness(population, A)\n",
        "        new_best_fitness = np.min(fitness_values)\n",
        "\n",
        "        if np.abs(new_best_fitness - best_fitness) < precision:\n",
        "            break\n",
        "\n",
        "        best_fitness = new_best_fitness\n",
        "        best_individual = population[np.argmin(fitness_values)]\n",
        "\n",
        "    return best_individual, best_fitness\n"
      ],
      "metadata": {
        "id": "1_M9gpvAYPKU"
      },
      "execution_count": null,
      "outputs": []
    },
    {
      "cell_type": "code",
      "source": [
        "\n",
        "n = 5\n",
        "B= np.random.rand(n, n)\n",
        "A = np.dot(B.T, B)\n",
        "Npop = 50\n",
        "precision = 1e-6\n",
        "em=1\n",
        "\n",
        "best_individual, best_fitness = genetic_algorithm(A, Npop,em, precision)\n",
        "print(\"Meilleur individu trouvé:\", best_individual)\n",
        "print(\"Meilleure fitness:\", best_fitness)"
      ],
      "metadata": {
        "colab": {
          "base_uri": "https://localhost:8080/"
        },
        "id": "wAD0Ru9TUMf9",
        "outputId": "d6acf3fd-4d4d-4c58-d8b6-39036fe2c76a"
      },
      "execution_count": null,
      "outputs": [
        {
          "output_type": "stream",
          "name": "stdout",
          "text": [
            "Meilleur individu trouvé: [-14.50795996 -11.52662264  -0.77089907  51.92573476  -4.76679172]\n",
            "Meilleure fitness: 0.19765036677727943\n"
          ]
        }
      ]
    },
    {
      "cell_type": "code",
      "source": [
        "n = 5\n",
        "B= np.random.rand(n, n)\n",
        "A = np.dot(B.T, B)\n",
        "Npop = 50\n",
        "precision = 1e-6\n",
        "result=[]\n",
        "em_values=[i for i in np.arange(0,8,0.5)]\n",
        "for em in em_values:\n",
        "  best_individual, best_fitness = genetic_algorithm(A, Npop,em, precision)\n",
        "  result.append(best_fitness)\n",
        "\n",
        "plt.plot(em_values,result)\n",
        "plt.xlabel('em')\n",
        "plt.ylabel('Fitness')\n",
        "plt.title('Fitness en fonction de em')\n",
        "plt.show()\n",
        "\n",
        "\n",
        "\n"
      ],
      "metadata": {
        "colab": {
          "base_uri": "https://localhost:8080/",
          "height": 472
        },
        "id": "DxJLCPWUidJ_",
        "outputId": "72f9fe41-bcb4-4a57-e8d6-1b82783114d5"
      },
      "execution_count": null,
      "outputs": [
        {
          "output_type": "display_data",
          "data": {
            "text/plain": [
              "<Figure size 640x480 with 1 Axes>"
            ],
            "image/png": "[encoded data removed]"
          },
          "metadata": {}
        }
      ]
    }
  ]
}